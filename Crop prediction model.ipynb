{
 "cells": [
  {
   "cell_type": "code",
   "execution_count": null,
   "id": "81cc4fe3",
   "metadata": {},
   "outputs": [],
   "source": [
    "# CROP PREDICTION MODEL\n",
    "# For manipulating\n",
    "import numpy as np\n",
    "import pandas as pd\n",
    "#For data vizualization \n",
    "import matplotlib.pyplot as plt\n",
    "import seaborn as sns\n",
    "# for interactivity\n",
    "from ipywidgets import interact"
   ]
  },
  {
   "cell_type": "code",
   "execution_count": 3,
   "id": "39a06d2a",
   "metadata": {},
   "outputs": [],
   "source": [
    "#lets read the dataset\n",
    "data =pd.read_csv('Crop_recommendation.csv')"
   ]
  },
  {
   "cell_type": "code",
   "execution_count": 4,
   "id": "744ba262",
   "metadata": {},
   "outputs": [
    {
     "name": "stdout",
     "output_type": "stream",
     "text": [
      "shape of the dataset: (2200, 8)\n"
     ]
    }
   ],
   "source": [
    "print(\"shape of the dataset:\",data.shape)"
   ]
  },
  {
   "cell_type": "code",
   "execution_count": 5,
   "id": "d4e08c00",
   "metadata": {},
   "outputs": [
    {
     "data": {
      "text/html": [
       "<div>\n",
       "<style scoped>\n",
       "    .dataframe tbody tr th:only-of-type {\n",
       "        vertical-align: middle;\n",
       "    }\n",
       "\n",
       "    .dataframe tbody tr th {\n",
       "        vertical-align: top;\n",
       "    }\n",
       "\n",
       "    .dataframe thead th {\n",
       "        text-align: right;\n",
       "    }\n",
       "</style>\n",
       "<table border=\"1\" class=\"dataframe\">\n",
       "  <thead>\n",
       "    <tr style=\"text-align: right;\">\n",
       "      <th></th>\n",
       "      <th>N</th>\n",
       "      <th>P</th>\n",
       "      <th>K</th>\n",
       "      <th>temperature</th>\n",
       "      <th>humidity</th>\n",
       "      <th>ph</th>\n",
       "      <th>rainfall</th>\n",
       "      <th>label</th>\n",
       "    </tr>\n",
       "  </thead>\n",
       "  <tbody>\n",
       "    <tr>\n",
       "      <th>0</th>\n",
       "      <td>90</td>\n",
       "      <td>42</td>\n",
       "      <td>43</td>\n",
       "      <td>20.879744</td>\n",
       "      <td>82.002744</td>\n",
       "      <td>6.502985</td>\n",
       "      <td>202.935536</td>\n",
       "      <td>rice</td>\n",
       "    </tr>\n",
       "    <tr>\n",
       "      <th>1</th>\n",
       "      <td>85</td>\n",
       "      <td>58</td>\n",
       "      <td>41</td>\n",
       "      <td>21.770462</td>\n",
       "      <td>80.319644</td>\n",
       "      <td>7.038096</td>\n",
       "      <td>226.655537</td>\n",
       "      <td>rice</td>\n",
       "    </tr>\n",
       "    <tr>\n",
       "      <th>2</th>\n",
       "      <td>60</td>\n",
       "      <td>55</td>\n",
       "      <td>44</td>\n",
       "      <td>23.004459</td>\n",
       "      <td>82.320763</td>\n",
       "      <td>7.840207</td>\n",
       "      <td>263.964248</td>\n",
       "      <td>rice</td>\n",
       "    </tr>\n",
       "    <tr>\n",
       "      <th>3</th>\n",
       "      <td>74</td>\n",
       "      <td>35</td>\n",
       "      <td>40</td>\n",
       "      <td>26.491096</td>\n",
       "      <td>80.158363</td>\n",
       "      <td>6.980401</td>\n",
       "      <td>242.864034</td>\n",
       "      <td>rice</td>\n",
       "    </tr>\n",
       "    <tr>\n",
       "      <th>4</th>\n",
       "      <td>78</td>\n",
       "      <td>42</td>\n",
       "      <td>42</td>\n",
       "      <td>20.130175</td>\n",
       "      <td>81.604873</td>\n",
       "      <td>7.628473</td>\n",
       "      <td>262.717340</td>\n",
       "      <td>rice</td>\n",
       "    </tr>\n",
       "  </tbody>\n",
       "</table>\n",
       "</div>"
      ],
      "text/plain": [
       "    N   P   K  temperature   humidity        ph    rainfall label\n",
       "0  90  42  43    20.879744  82.002744  6.502985  202.935536  rice\n",
       "1  85  58  41    21.770462  80.319644  7.038096  226.655537  rice\n",
       "2  60  55  44    23.004459  82.320763  7.840207  263.964248  rice\n",
       "3  74  35  40    26.491096  80.158363  6.980401  242.864034  rice\n",
       "4  78  42  42    20.130175  81.604873  7.628473  262.717340  rice"
      ]
     },
     "execution_count": 5,
     "metadata": {},
     "output_type": "execute_result"
    }
   ],
   "source": [
    "data.head()"
   ]
  },
  {
   "cell_type": "code",
   "execution_count": 6,
   "id": "fa281030",
   "metadata": {},
   "outputs": [
    {
     "data": {
      "text/plain": [
       "N              0\n",
       "P              0\n",
       "K              0\n",
       "temperature    0\n",
       "humidity       0\n",
       "ph             0\n",
       "rainfall       0\n",
       "label          0\n",
       "dtype: int64"
      ]
     },
     "execution_count": 6,
     "metadata": {},
     "output_type": "execute_result"
    }
   ],
   "source": [
    "data.isnull().sum()"
   ]
  },
  {
   "cell_type": "code",
   "execution_count": 7,
   "id": "5ac3672d",
   "metadata": {},
   "outputs": [
    {
     "data": {
      "text/plain": [
       "lentil         100\n",
       "mango          100\n",
       "chickpea       100\n",
       "cotton         100\n",
       "muskmelon      100\n",
       "mothbeans      100\n",
       "pigeonpeas     100\n",
       "watermelon     100\n",
       "pomegranate    100\n",
       "blackgram      100\n",
       "coffee         100\n",
       "rice           100\n",
       "kidneybeans    100\n",
       "grapes         100\n",
       "jute           100\n",
       "coconut        100\n",
       "banana         100\n",
       "apple          100\n",
       "orange         100\n",
       "maize          100\n",
       "mungbean       100\n",
       "papaya         100\n",
       "Name: label, dtype: int64"
      ]
     },
     "execution_count": 7,
     "metadata": {},
     "output_type": "execute_result"
    }
   ],
   "source": [
    "data['label'].value_counts()"
   ]
  },
  {
   "cell_type": "code",
   "execution_count": 8,
   "id": "aeda06b4",
   "metadata": {},
   "outputs": [
    {
     "name": "stdout",
     "output_type": "stream",
     "text": [
      "Average ratio of nitrogen in the soil : 50.55\n",
      "Average ratio of phosphorus in the soil : 53.36\n",
      "Average ratio of pottastium in the soil : 48.15\n",
      "Average ratio of temperature in the soil : 25.62\n",
      "Average ratio of humidity in the soil : 71.48\n",
      "Average ratio of ph in the soil : 6.47\n",
      "Average ratio of  rainfall in the soil : 103.46\n"
     ]
    }
   ],
   "source": [
    "#let check the summary of all crops \n",
    "print(\"Average ratio of nitrogen in the soil : {0:.2f}\".format(data['N'].mean()))\n",
    "print(\"Average ratio of phosphorus in the soil : {0:.2f}\".format(data['P'].mean()))\n",
    "print(\"Average ratio of pottastium in the soil : {0:.2f}\".format(data['K'].mean()))\n",
    "print(\"Average ratio of temperature in the soil : {0:.2f}\".format(data['temperature'].mean()))\n",
    "print(\"Average ratio of humidity in the soil : {0:.2f}\".format(data['humidity'].mean()))\n",
    "print(\"Average ratio of ph in the soil : {0:.2f}\".format(data['ph'].mean()))\n",
    "print(\"Average ratio of  rainfall in the soil : {0:.2f}\".format(data['rainfall'].mean()))"
   ]
  },
  {
   "cell_type": "code",
   "execution_count": 9,
   "id": "762b1a70",
   "metadata": {},
   "outputs": [
    {
     "data": {
      "application/vnd.jupyter.widget-view+json": {
       "model_id": "2210e7c5f7e74576b8e9b76737290419",
       "version_major": 2,
       "version_minor": 0
      },
      "text/plain": [
       "interactive(children=(Dropdown(description='crops', options=('lentil', 'mango', 'chickpea', 'cotton', 'muskmel…"
      ]
     },
     "metadata": {},
     "output_type": "display_data"
    }
   ],
   "source": [
    "@interact\n",
    "def summary(crops = list(data['label'].value_counts().index)):\n",
    "    x= data[data['label']==crops]\n",
    "    print(\"------------------------------------\")  \n",
    "    print(\"statistics for Nitrogen\")\n",
    "    print(\"minimum nitrogen required:\",x['N'].min())\n",
    "    print(\"average nitrogen required:\",x['N'].mean())\n",
    "    print(\"maximum nitrogen required:\",x['N'].max())\n",
    "    print(\"------------------------------------\")  \n",
    "    print(\"statistics for phosphorus\")\n",
    "    print(\"minimum phosphorus required:\",x['P'].min())\n",
    "    print(\"average phosphorus required:\",x['P'].mean())\n",
    "    print(\"maximum phosphorus required:\",x['P'].max())\n",
    "    print(\"------------------------------------\")  \n",
    "    print(\"statistics for pottasium\")\n",
    "    print(\"minimum pottasium required:\",x['K'].min())\n",
    "    print(\"average pottasium required:\",x['K'].mean())\n",
    "    print(\"maximum pottasium required:\",x['K'].max())\n",
    "    print(\"------------------------------------\")  \n",
    "    print(\"statistics for temperature\")\n",
    "    print(\"minimum temperature required:\",x['temperature'].min())\n",
    "    print(\"average temperature  required:\",x['temperature'].mean())\n",
    "    print(\"maximum temperature required:\",x['temperature'].max())\n",
    "    print(\"------------------------------------\")  \n",
    "    print(\"statistics for humidity\")\n",
    "    print(\"minimum humidity required:\",x['humidity'].min())\n",
    "    print(\"average humidity required:\",x['humidity'].mean())\n",
    "    print(\"maximum humidity required:\",x['humidity'].max())\n",
    "    print(\"------------------------------------\")  \n",
    "    print(\"statistics for ph\")\n",
    "    print(\"minimum ph required:{0:.2f}\".format(x['ph'].min()))\n",
    "    print(\"average ph required:{0:.2f}\".format(x['ph'].mean()))\n",
    "    print(\"maximum ph required:{0:.2f}\".format(x['ph'].max()))\n",
    "    print(\"------------------------------------\")  \n",
    "    print(\"statistics for rainfall\")\n",
    "    print(\"minimum rainfall required:\",x['rainfall'].min())\n",
    "    print(\"average rainfall required:\",x['rainfall'].mean())\n",
    "    print(\"maximum rainfall required:\",x['rainfall'].max())"
   ]
  },
  {
   "cell_type": "code",
   "execution_count": 12,
   "id": "8963af47",
   "metadata": {},
   "outputs": [
    {
     "data": {
      "application/vnd.jupyter.widget-view+json": {
       "model_id": "9520262b4fe34571be183fcd968bf28f",
       "version_major": 2,
       "version_minor": 0
      },
      "text/plain": [
       "interactive(children=(Dropdown(description='condition', options=('N', 'P', 'K', 'temperature', 'humidity', 'ph…"
      ]
     },
     "metadata": {},
     "output_type": "display_data"
    }
   ],
   "source": [
    "@interact\n",
    "def compare( condition=['N','P','K','temperature','humidity','ph','rainfall']):\n",
    "    print('Crops which require more than Average',condition,'\\n')\n",
    "    print(data[data[condition]>data[condition].mean()]['label'].unique())\n",
    "    print('-----------------------------------------------------')\n",
    "    print('Crops that require less than average ',condition,'\\n')\n",
    "    print(data[data[condition]<=data[condition].mean()]['label'].unique())\n",
    "    "
   ]
  },
  {
   "cell_type": "code",
   "execution_count": 18,
   "id": "b8a330db",
   "metadata": {},
   "outputs": [
    {
     "name": "stderr",
     "output_type": "stream",
     "text": [
      "C:\\Users\\navraj sharma\\anaconda3\\lib\\site-packages\\seaborn\\distributions.py:2557: FutureWarning: `distplot` is a deprecated function and will be removed in a future version. Please adapt your code to use either `displot` (a figure-level function with similar flexibility) or `histplot` (an axes-level function for histograms).\n",
      "  warnings.warn(msg, FutureWarning)\n",
      "C:\\Users\\navraj sharma\\anaconda3\\lib\\site-packages\\seaborn\\distributions.py:2557: FutureWarning: `distplot` is a deprecated function and will be removed in a future version. Please adapt your code to use either `displot` (a figure-level function with similar flexibility) or `histplot` (an axes-level function for histograms).\n",
      "  warnings.warn(msg, FutureWarning)\n",
      "C:\\Users\\navraj sharma\\anaconda3\\lib\\site-packages\\seaborn\\distributions.py:2557: FutureWarning: `distplot` is a deprecated function and will be removed in a future version. Please adapt your code to use either `displot` (a figure-level function with similar flexibility) or `histplot` (an axes-level function for histograms).\n",
      "  warnings.warn(msg, FutureWarning)\n",
      "C:\\Users\\navraj sharma\\anaconda3\\lib\\site-packages\\seaborn\\distributions.py:2557: FutureWarning: `distplot` is a deprecated function and will be removed in a future version. Please adapt your code to use either `displot` (a figure-level function with similar flexibility) or `histplot` (an axes-level function for histograms).\n",
      "  warnings.warn(msg, FutureWarning)\n",
      "C:\\Users\\navraj sharma\\anaconda3\\lib\\site-packages\\seaborn\\distributions.py:2557: FutureWarning: `distplot` is a deprecated function and will be removed in a future version. Please adapt your code to use either `displot` (a figure-level function with similar flexibility) or `histplot` (an axes-level function for histograms).\n",
      "  warnings.warn(msg, FutureWarning)\n",
      "C:\\Users\\navraj sharma\\anaconda3\\lib\\site-packages\\seaborn\\distributions.py:2557: FutureWarning: `distplot` is a deprecated function and will be removed in a future version. Please adapt your code to use either `displot` (a figure-level function with similar flexibility) or `histplot` (an axes-level function for histograms).\n",
      "  warnings.warn(msg, FutureWarning)\n",
      "C:\\Users\\navraj sharma\\anaconda3\\lib\\site-packages\\seaborn\\distributions.py:2557: FutureWarning: `distplot` is a deprecated function and will be removed in a future version. Please adapt your code to use either `displot` (a figure-level function with similar flexibility) or `histplot` (an axes-level function for histograms).\n",
      "  warnings.warn(msg, FutureWarning)\n"
     ]
    },
    {
     "data": {
      "image/png": "[encoded data removed]",
      "text/plain": [
       "<Figure size 432x288 with 7 Axes>"
      ]
     },
     "metadata": {
      "needs_background": "light"
     },
     "output_type": "display_data"
    }
   ],
   "source": [
    "plt.subplot(2,4,1)\n",
    "sns.distplot(data['N'],color='grey')\n",
    "plt.xlabel('ratio of Nitrogen',fontsize= 12)\n",
    "plt.grid()\n",
    "plt.subplot(2,4,2)\n",
    "sns.distplot(data['P'],color='blue')\n",
    "plt.xlabel('ratio of phosphorus',fontsize= 12)\n",
    "plt.grid()\n",
    "plt.subplot(2,4,3)\n",
    "sns.distplot(data['K'],color='darkblue')\n",
    "plt.xlabel('ratio of potasium',fontsize= 12)\n",
    "plt.grid()\n",
    "plt.subplot(2,4,4)\n",
    "sns.distplot(data['temperature'],color='darkgreen')\n",
    "plt.xlabel('ratio of temperature',fontsize= 12)\n",
    "plt.grid()\n",
    "plt.subplot(2,4,5)\n",
    "sns.distplot(data['rainfall'],color='lightgreen')\n",
    "plt.xlabel('ratio of rainfall',fontsize= 12)\n",
    "plt.grid()\n",
    "plt.subplot(2,4,6)\n",
    "sns.distplot(data['humidity'],color='black')\n",
    "plt.xlabel('ratio of humidity',fontsize= 12)\n",
    "plt.grid()\n",
    "plt.subplot(2,4,7)\n",
    "sns.distplot(data['ph'],color='lightgrey')\n",
    "plt.xlabel('ratio of PH',fontsize= 12)\n",
    "plt.grid()\n",
    "plt.suptitle('Distribution for Agriculutral Conditions ',fontsize=20)\n",
    "plt.show()\n"
   ]
  },
  {
   "cell_type": "code",
   "execution_count": 21,
   "id": "d883f41b",
   "metadata": {},
   "outputs": [
    {
     "name": "stdout",
     "output_type": "stream",
     "text": [
      "Find some intersting Facts \n",
      "-----------------------------------\n",
      "Crops which requires very high ratio  of Nitrogen content in soil: ['cotton']\n",
      "Crops which requires very high ratio  of Nitrogen content in soil: ['grapes' 'apple']\n",
      "Crops which requires very high ratio  of Nitrogen content in soil: ['grapes' 'apple']\n",
      "Crops which requires very high rainfall: ['rice' 'papaya' 'coconut']\n",
      "Crops which requires very low temperature: ['grapes']\n",
      "Crops which requires very high temperature: ['grapes' 'papaya']\n",
      "Crops which requires very high low humidity: ['chickpea' 'kidneybeans']\n",
      "Crops which requires very low ph value : ['mothbeans']\n",
      "Crops which requires very high ph value : ['mothbeans']\n"
     ]
    }
   ],
   "source": [
    "#lets find out some intersting Facts\n",
    "print(\"Find some intersting Facts \")\n",
    "print('-----------------------------------')\n",
    "print('Crops which requires very high ratio  of Nitrogen content in soil:',data[data['N']>120]['label'].unique())\n",
    "print('Crops which requires very high ratio  of Nitrogen content in soil:',data[data['P']>100]['label'].unique())\n",
    "print('Crops which requires very high ratio  of Nitrogen content in soil:',data[data['K']>200]['label'].unique())\n",
    "print('Crops which requires very high rainfall:',data[data['rainfall']>200]['label'].unique())\n",
    "print('Crops which requires very low temperature:',data[data['temperature']<10]['label'].unique())\n",
    "print('Crops which requires very high temperature:',data[data['temperature']>40]['label'].unique())\n",
    "print('Crops which requires very high low humidity:',data[data['humidity']<20]['label'].unique())\n",
    "print('Crops which requires very low ph value :',data[data['ph']<4]['label'].unique())\n",
    "print('Crops which requires very high ph value :',data[data['ph']>9]['label'].unique())"
   ]
  },
  {
   "cell_type": "code",
   "execution_count": 24,
   "id": "d56faebd",
   "metadata": {},
   "outputs": [
    {
     "name": "stdout",
     "output_type": "stream",
     "text": [
      "(2200, 7)\n"
     ]
    }
   ],
   "source": [
    "from sklearn.cluster import KMeans\n",
    "#removing labels column\n",
    "x=data.drop(['label'],axis=1)\n",
    "#selecting all the values of the data \n",
    "x=x.values\n",
    "#checking the shape\n",
    "print(x.shape)\n"
   ]
  },
  {
   "cell_type": "code",
   "execution_count": 27,
   "id": "998408bc",
   "metadata": {},
   "outputs": [
    {
     "data": {
      "image/png": "[encoded data removed]",
      "text/plain": [
       "<Figure size 720x288 with 1 Axes>"
      ]
     },
     "metadata": {
      "needs_background": "light"
     },
     "output_type": "display_data"
    }
   ],
   "source": [
    "#lets determine the optimum Number of cluster within the data set\n",
    "plt.rcParams['figure.figsize']=(10,4)\n",
    "wcss=[]\n",
    "for i in range (1,11):\n",
    "    km = KMeans(n_clusters=i,init='k-means++',max_iter=300,n_init=10,random_state=0)\n",
    "    km.fit(x)\n",
    "    wcss.append(km.inertia_)\n",
    "#lets plot the results\n",
    "plt.plot(range(1,11),wcss)\n",
    "plt.title('THE ELBOW METHOD',fontsize=20)\n",
    "plt.xlabel('Number of cluster')\n",
    "plt.ylabel('wcss')\n",
    "plt.show()"
   ]
  },
  {
   "cell_type": "code",
   "execution_count": 32,
   "id": "c7e7c9b9",
   "metadata": {},
   "outputs": [
    {
     "name": "stdout",
     "output_type": "stream",
     "text": [
      "lets check the results after applying clustering analysis \n",
      "\n",
      "Crops in first cluster: ['maize' 'chickpea' 'kidneybeans' 'pigeonpeas' 'mothbeans' 'mungbean'\n",
      " 'blackgram' 'lentil' 'pomegranate' 'mango' 'orange' 'papaya' 'coconut']\n",
      "--------------------------------------------------------------\n",
      "Crops in second cluster: ['maize' 'banana' 'watermelon' 'muskmelon' 'papaya' 'cotton' 'coffee']\n",
      "--------------------------------------------------------------\n",
      "Crops in third cluster: ['grapes' 'apple']\n",
      "--------------------------------------------------------------\n",
      "Crops in fourth cluster: ['rice' 'pigeonpeas' 'papaya' 'coconut' 'jute' 'coffee']\n"
     ]
    }
   ],
   "source": [
    "#let implement the K means algo to perform clustering analysis\n",
    "km=KMeans(n_clusters=4,init='k-means++',max_iter=300,n_init=10,random_state=0)\n",
    "y_means=km.fit_predict(x)\n",
    "#lets find out the results \n",
    "a=data['label']\n",
    "y_means=pd.DataFrame(y_means)\n",
    "z=pd.concat([y_means,a],axis=1)\n",
    "z=z.rename(columns={0:'cluster'})\n",
    "#lets check the clusters of each crops\n",
    "print('lets check the results after applying clustering analysis \\n')\n",
    "print(\"Crops in first cluster:\",z[z['cluster']==0]['label'].unique())\n",
    "print(\"--------------------------------------------------------------\")\n",
    "print(\"Crops in second cluster:\",z[z['cluster']==1]['label'].unique())\n",
    "print(\"--------------------------------------------------------------\")\n",
    "print(\"Crops in third cluster:\",z[z['cluster']==2]['label'].unique())\n",
    "print(\"--------------------------------------------------------------\")\n",
    "print(\"Crops in fourth cluster:\",z[z['cluster']==3]['label'].unique())"
   ]
  },
  {
   "cell_type": "code",
   "execution_count": 33,
   "id": "78f60419",
   "metadata": {},
   "outputs": [
    {
     "name": "stdout",
     "output_type": "stream",
     "text": [
      "shape of x (2200, 7)\n",
      "shape of y (2200,)\n"
     ]
    }
   ],
   "source": [
    "#lets split the dataset for predective modelling \n",
    "y=data['label']\n",
    "x=data.drop(['label'],axis=1)\n",
    "print(\"shape of x\",x.shape)\n",
    "print(\"shape of y\",y.shape)\n"
   ]
  },
  {
   "cell_type": "code",
   "execution_count": 35,
   "id": "144d28aa",
   "metadata": {},
   "outputs": [
    {
     "name": "stdout",
     "output_type": "stream",
     "text": [
      "The shape of x trainn (1760, 7)\n",
      "The shape of x test (440, 7)\n",
      "The shape of y train (1760,)\n",
      "The shape of y test (440,)\n"
     ]
    }
   ],
   "source": [
    "#lets create Training and testing sets for validation of results\n",
    "from sklearn.model_selection import train_test_split\n",
    "x_train,x_test ,Y_train,Y_test=train_test_split(x,y,test_size=0.2,random_state=0)\n",
    "print(\"The shape of x trainn\",x_train.shape)\n",
    "print(\"The shape of x test\",x_test.shape)\n",
    "print(\"The shape of y train\",Y_train.shape)\n",
    "print(\"The shape of y test\",Y_test.shape)"
   ]
  },
  {
   "cell_type": "code",
   "execution_count": 48,
   "id": "9ce18a44",
   "metadata": {},
   "outputs": [
    {
     "name": "stderr",
     "output_type": "stream",
     "text": [
      "C:\\Users\\navraj sharma\\anaconda3\\lib\\site-packages\\sklearn\\linear_model\\_logistic.py:763: ConvergenceWarning: lbfgs failed to converge (status=1):\n",
      "STOP: TOTAL NO. of ITERATIONS REACHED LIMIT.\n",
      "\n",
      "Increase the number of iterations (max_iter) or scale the data as shown in:\n",
      "    https://scikit-learn.org/stable/modules/preprocessing.html\n",
      "Please also refer to the documentation for alternative solver options:\n",
      "    https://scikit-learn.org/stable/modules/linear_model.html#logistic-regression\n",
      "  n_iter_i = _check_optimize_result(\n"
     ]
    }
   ],
   "source": [
    "#lets creat a predictive model\n",
    "from sklearn.linear_model import LogisticRegression\n",
    "\n",
    "model= LogisticRegression(solver='lbfgs', max_iter=10000)\n",
    "model.fit(x_train,Y_train)\n",
    "y_pred=model.predict(x_test)\n"
   ]
  },
  {
   "cell_type": "code",
   "execution_count": 50,
   "id": "21ccce26",
   "metadata": {},
   "outputs": [
    {
     "data": {
      "text/plain": [
       "<function matplotlib.pyplot.show(close=None, block=None)>"
      ]
     },
     "execution_count": 50,
     "metadata": {},
     "output_type": "execute_result"
    },
    {
     "data": {
      "image/png": "[encoded data removed]",
      "text/plain": [
       "<Figure size 720x720 with 2 Axes>"
      ]
     },
     "metadata": {
      "needs_background": "light"
     },
     "output_type": "display_data"
    }
   ],
   "source": [
    "#lets evaluate the model performance\n",
    "from sklearn.metrics import confusion_matrix\n",
    "#lets print the confusion matrix first \n",
    "plt.rcParams['figure.figsize']=(10,10)\n",
    "cm=confusion_matrix(Y_test,y_pred)\n",
    "sns.heatmap(cm,annot=True,cmap='Wistia')\n",
    "plt.title('Confusion matrix For Logisticregression',fontsize=15)\n",
    "plt.show"
   ]
  },
  {
   "cell_type": "code",
   "execution_count": 51,
   "id": "26f5db5f",
   "metadata": {},
   "outputs": [
    {
     "name": "stdout",
     "output_type": "stream",
     "text": [
      "the suggested crop for given climatic change is : ['rice']\n"
     ]
    }
   ],
   "source": [
    "prediction=model.predict((np.array([[\n",
    "    90,\n",
    "    40,\n",
    "    40,\n",
    "    20,\n",
    "    80,\n",
    "    7,\n",
    "    200\n",
    "]])))\n",
    "print(\"the suggested crop for given climatic change is :\",prediction)"
   ]
  },
  {
   "cell_type": "code",
   "execution_count": 53,
   "id": "21cc9435",
   "metadata": {},
   "outputs": [],
   "source": [
    "#Pickling the model file for the deployment\n",
    "import pickle\n",
    "pickle.dump(LogisticRegression,open('predictmodel.pkl','wb'))"
   ]
  },
  {
   "cell_type": "code",
   "execution_count": null,
   "id": "2aec544f",
   "metadata": {},
   "outputs": [],
   "source": []
  }
 ],
 "metadata": {
  "kernelspec": {
   "display_name": "Python 3",
   "language": "python",
   "name": "python3"
  },
  "language_info": {
   "codemirror_mode": {
    "name": "ipython",
    "version": 3
   },
   "file_extension": ".py",
   "mimetype": "text/x-python",
   "name": "python",
   "nbconvert_exporter": "python",
   "pygments_lexer": "ipython3",
   "version": "3.8.8"
  }
 },
 "nbformat": 4,
 "nbformat_minor": 5
}
